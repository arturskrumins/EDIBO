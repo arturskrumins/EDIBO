{
  "nbformat": 4,
  "nbformat_minor": 0,
  "metadata": {
    "colab": {
      "name": "Untitled2.ipynb",
      "provenance": [],
      "authorship_tag": "ABX9TyMuA7wDcs8a2VXROJ5lx/8i",
      "include_colab_link": true
    },
    "kernelspec": {
      "name": "python3",
      "display_name": "Python 3"
    }
  },
  "cells": [
    {
      "cell_type": "markdown",
      "metadata": {
        "id": "view-in-github",
        "colab_type": "text"
      },
      "source": [
        "<a href=\"https://colab.research.google.com/github/arturskrumins/EDIBO/blob/master/Untitled2.ipynb\" target=\"_parent\"><img src=\"https://colab.research.google.com/assets/colab-badge.svg\" alt=\"Open In Colab\"/></a>"
      ]
    },
    {
      "cell_type": "code",
      "metadata": {
        "id": "v94X3A8PPaHf",
        "colab_type": "code",
        "colab": {
          "base_uri": "https://localhost:8080/",
          "height": 201
        },
        "outputId": "884cc00c-87bf-42e7-8ad2-10f719b16e61"
      },
      "source": [
        "\n",
        "\n",
        "#z = \" Janis\"\n",
        "#a = \"140\"\n",
        "\n",
        "#d = '$'\n",
        "#n = \"264550752\"\n",
        "\n",
        "\n",
        "def f(z,a,f,n):\n",
        " s = \"\"\"\n",
        " Godājamais %s,\n",
        " Jums ir pienācis naudas pārvedums\n",
        " ar vertibu %s %s\n",
        " Lai saņemtu naudu, atsutiet \n",
        " īsziņu uz telefonu num %s\n",
        "     \n",
        "Cieņā,\n",
        "atraitne\n",
        "\"\"\"%(z,a,d,n)\n",
        "\n",
        " print(s)\n",
        "\n",
        "f(\"Davis\",\" 140\",\"$\",\"2456151\")\n",
        "#f(z,a,f,n)\n",
        "\n",
        "\n"
      ],
      "execution_count": 39,
      "outputs": [
        {
          "output_type": "stream",
          "text": [
            "\n",
            " Godājamais Davis,\n",
            " Jums ir pienācis naudas pārvedums\n",
            " ar vertibu  140 $\n",
            " Lai saņemtu naudu, atsutiet \n",
            " īsziņu uz telefonu num 2456151\n",
            "     \n",
            "Cieņā,\n",
            "atraitne\n",
            "\n"
          ],
          "name": "stdout"
        }
      ]
    }
  ]
}
