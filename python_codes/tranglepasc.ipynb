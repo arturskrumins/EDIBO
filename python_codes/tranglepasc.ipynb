{
  "nbformat": 4,
  "nbformat_minor": 0,
  "metadata": {
    "colab": {
      "name": "Untitled1.ipynb",
      "provenance": [],
      "authorship_tag": "ABX9TyOBW5UvFYB7afw/pecUQuKg",
      "include_colab_link": true
    },
    "kernelspec": {
      "name": "python3",
      "display_name": "Python 3"
    }
  },
  "cells": [
    {
      "cell_type": "markdown",
      "metadata": {
        "id": "view-in-github",
        "colab_type": "text"
      },
      "source": [
        "<a href=\"https://colab.research.google.com/github/arturskrumins/EDIBO/blob/master/Untitled1.ipynb\" target=\"_parent\"><img src=\"https://colab.research.google.com/assets/colab-badge.svg\" alt=\"Open In Colab\"/></a>"
      ]
    },
    {
      "cell_type": "code",
      "metadata": {
        "id": "JdJzDAZT6YTQ",
        "colab_type": "code",
        "colab": {
          "base_uri": "https://localhost:8080/",
          "height": 219
        },
        "outputId": "58f783a8-9002-4527-85ed-be30965bd1c1"
      },
      "source": [
        "n= int(input(\"Ievadi stavu skaitu: \")) #stavu skaits\n",
        "\n",
        "def printPascal(n) : #izvada paskala trijstura funkciju\n",
        "      \n",
        "\n",
        "    for line in range(0, n) : \n",
        "        \n",
        "        for i in range(0, line + 1) : \n",
        "            print(binomialCoeff(line, i),\n",
        "                \" \"*(n-i), end = \"  \",sep=\" \")  # \"\"*n-1 atstarpe*stavu skaits end beigu atstarpe , sep atstarpe starp char\n",
        "        print() \n",
        "    \n",
        "def binomialCoeff(n, k) : \n",
        "    res = 1\n",
        "    if (k > n - k) :   #pascala trisjtura formula\n",
        "        k = n - k \n",
        "    for i in range(0 , k) : \n",
        "        res = res * (n - i) \n",
        "        res = res // (i + 1) \n",
        "      \n",
        "    return res \n",
        "  \n",
        "#n = 7 # rindu skaits\n",
        "printPascal(n) \n",
        "  "
      ],
      "execution_count": 28,
      "outputs": [
        {
          "output_type": "stream",
          "text": [
            "Ievadi stavu skaitu: 10\n",
            "1             \n",
            "1             1            \n",
            "1             2            1           \n",
            "1             3            3           1          \n",
            "1             4            6           4          1         \n",
            "1             5            10           10          5         1        \n",
            "1             6            15           20          15         6        1       \n",
            "1             7            21           35          35         21        7       1      \n",
            "1             8            28           56          70         56        28       8      1     \n",
            "1             9            36           84          126         126        84       36      9     1    \n"
          ],
          "name": "stdout"
        }
      ]
    }
  ]
}
