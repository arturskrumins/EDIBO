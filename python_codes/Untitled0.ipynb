{
  "nbformat": 4,
  "nbformat_minor": 0,
  "metadata": {
    "colab": {
      "name": "Untitled0.ipynb",
      "provenance": [],
      "authorship_tag": "ABX9TyO5BG1g63ZekBUrUvSrWTPw",
      "include_colab_link": true
    },
    "kernelspec": {
      "name": "python3",
      "display_name": "Python 3"
    }
  },
  "cells": [
    {
      "cell_type": "markdown",
      "metadata": {
        "id": "view-in-github",
        "colab_type": "text"
      },
      "source": [
        "<a href=\"https://colab.research.google.com/github/arturskrumins/EDIBO/blob/master/Untitled0.ipynb\" target=\"_parent\"><img src=\"https://colab.research.google.com/assets/colab-badge.svg\" alt=\"Open In Colab\"/></a>"
      ]
    },
    {
      "cell_type": "code",
      "metadata": {
        "id": "1WQLOX3Md7i0",
        "colab_type": "code",
        "colab": {
          "base_uri": "https://localhost:8080/",
          "height": 54
        },
        "outputId": "14df8531-c4bc-4ae0-a5ea-fbf5592eea6f"
      },
      "source": [
        "a = 33\n",
        "b = 31\n",
        "d = {'balons':'baloon' , 'zale':'grass'}\n",
        "\n",
        "\n",
        "if b > a:\n",
        "  d['bumba'] = ('ball')\n",
        "  print(\"Ierakstam dictionary papildu rindu\")\n",
        "  print(d)\n",
        "elif a > b:\n",
        "  d.pop('balons')\n",
        "  print(\"Noņemam no dictionary rindu\")\n",
        "  print(d)\n",
        "elif a == b:\n",
        "  print(\"Atstajam rindas ka ir\")\n",
        "  print(d)"
      ],
      "execution_count": 15,
      "outputs": [
        {
          "output_type": "stream",
          "text": [
            "Noņemam no dictionary rindu\n",
            "{'zale': 'grass'}\n"
          ],
          "name": "stdout"
        }
      ]
    }
  ]
}
